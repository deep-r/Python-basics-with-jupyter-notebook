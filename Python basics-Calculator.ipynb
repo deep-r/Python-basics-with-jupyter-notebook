{
 "cells": [
  {
   "cell_type": "markdown",
   "metadata": {},
   "source": [
    "# Python basics- Simple Calculator"
   ]
  },
  {
   "cell_type": "code",
   "execution_count": 11,
   "metadata": {},
   "outputs": [
    {
     "name": "stdout",
     "output_type": "stream",
     "text": [
      "Enter first operand: 5\n",
      "Enter second operand: 7\n"
     ]
    }
   ],
   "source": [
    "a=int(input('Enter first operand: '))\n",
    "b=int(input('Enter second operand: '))"
   ]
  },
  {
   "cell_type": "code",
   "execution_count": 12,
   "metadata": {},
   "outputs": [
    {
     "name": "stdout",
     "output_type": "stream",
     "text": [
      "Enter operation: *\n",
      "35\n"
     ]
    }
   ],
   "source": [
    "o=input('Enter operation: ')\n",
    "\n",
    "if o=='+': print(a+b)\n",
    "elif o=='-': print(a-b)\n",
    "elif o=='*': print(a*b)\n",
    "elif o=='/': print(a/b)\n",
    "else: print('Invalid operand')"
   ]
  },
  {
   "cell_type": "code",
   "execution_count": null,
   "metadata": {},
   "outputs": [],
   "source": []
  }
 ],
 "metadata": {
  "kernelspec": {
   "display_name": "Python 3",
   "language": "python",
   "name": "python3"
  },
  "language_info": {
   "codemirror_mode": {
    "name": "ipython",
    "version": 3
   },
   "file_extension": ".py",
   "mimetype": "text/x-python",
   "name": "python",
   "nbconvert_exporter": "python",
   "pygments_lexer": "ipython3",
   "version": "3.7.1"
  }
 },
 "nbformat": 4,
 "nbformat_minor": 2
}
